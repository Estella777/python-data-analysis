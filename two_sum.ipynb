{
 "cells": [
  {
   "cell_type": "code",
   "execution_count": 6,
   "metadata": {},
   "outputs": [],
   "source": [
    "def twoSum(nums, target):\n",
    "\tm = []\n",
    "\tn = len(nums)\n",
    "\tfor i in range(n):\n",
    "\t\tfor j in range(i+1, n):\n",
    "\t\t\tif nums[i] == target - nums[j]:\n",
    "\t\t\t\tm.append(i)\n",
    "\t\t\t\tm.append(j)\n",
    "\treturn m"
   ]
  },
  {
   "cell_type": "code",
   "execution_count": 12,
   "metadata": {},
   "outputs": [],
   "source": [
    "#second method\n",
    "def twoSum2(nums, target):\n",
    "\tdic = {}\n",
    "\tn = len(nums)\n",
    "\tfor i in range(n):\n",
    "\t\tcom = target - nums[i]\n",
    "\t\tif com in dic:\n",
    "\t\t\treturn(dic[com], i)\n",
    "\t\tdic[nums[i]] = i"
   ]
  },
  {
   "cell_type": "code",
   "execution_count": 13,
   "metadata": {},
   "outputs": [],
   "source": [
    "def main():\n",
    "\tprint(twoSum([2,7,11,15], 9))\n",
    "\tprint(twoSum2([2,7,11,15], 9))"
   ]
  },
  {
   "cell_type": "code",
   "execution_count": 14,
   "metadata": {},
   "outputs": [
    {
     "name": "stdout",
     "output_type": "stream",
     "text": [
      "[0, 1]\n",
      "(0, 1)\n"
     ]
    }
   ],
   "source": [
    "main()"
   ]
  }
 ],
 "metadata": {
  "kernelspec": {
   "display_name": "python-da-env",
   "language": "python",
   "name": "python3"
  },
  "language_info": {
   "codemirror_mode": {
    "name": "ipython",
    "version": 3
   },
   "file_extension": ".py",
   "mimetype": "text/x-python",
   "name": "python",
   "nbconvert_exporter": "python",
   "pygments_lexer": "ipython3",
   "version": "3.12.2"
  }
 },
 "nbformat": 4,
 "nbformat_minor": 2
}
