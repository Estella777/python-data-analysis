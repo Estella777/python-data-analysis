{
 "cells": [
  {
   "cell_type": "code",
   "execution_count": 12,
   "metadata": {},
   "outputs": [],
   "source": [
    "def countString(x):\n",
    "\tcount_fre = {}\n",
    "\tfor i in x:\n",
    "\t\tif i in count_fre:\n",
    "\t\t\tcount_fre[i] += 1\n",
    "\t\telse:\n",
    "\t\t\tcount_fre[i] = 1\n",
    "\t\n",
    "\tprint (str(count_fre))\n",
    "\n",
    "\t\n"
   ]
  },
  {
   "cell_type": "code",
   "execution_count": 13,
   "metadata": {},
   "outputs": [],
   "source": [
    "def main():\n",
    "\tcountString('howareyour')\n",
    "\tcountString2('howareyour')"
   ]
  },
  {
   "cell_type": "code",
   "execution_count": 14,
   "metadata": {},
   "outputs": [
    {
     "name": "stdout",
     "output_type": "stream",
     "text": [
      "{'h': 1, 'o': 2, 'w': 1, 'a': 1, 'r': 2, 'e': 1, 'y': 1, 'u': 1}\n",
      "{'h': 1, 'o': 2, 'w': 1, 'a': 1, 'r': 2, 'e': 1, 'y': 1, 'u': 1}\n"
     ]
    }
   ],
   "source": [
    "main()"
   ]
  },
  {
   "cell_type": "code",
   "execution_count": 6,
   "metadata": {},
   "outputs": [],
   "source": [
    "#second method\n",
    "def countString2(x):\n",
    "\tdic = {}\n",
    "\tfor keys in x:\n",
    "\t\tdic[keys] = dic.get(keys, 0) + 1\n",
    "\tprint(str(dic))"
   ]
  }
 ],
 "metadata": {
  "kernelspec": {
   "display_name": "python-da-env",
   "language": "python",
   "name": "python3"
  },
  "language_info": {
   "codemirror_mode": {
    "name": "ipython",
    "version": 3
   },
   "file_extension": ".py",
   "mimetype": "text/x-python",
   "name": "python",
   "nbconvert_exporter": "python",
   "pygments_lexer": "ipython3",
   "version": "3.12.2"
  }
 },
 "nbformat": 4,
 "nbformat_minor": 2
}
